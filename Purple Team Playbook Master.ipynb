{
 "cells": [
  {
   "cell_type": "markdown",
   "metadata": {},
   "source": [
    "# Purple Team Playbook Master\n",
    "## Use Case: Master Playbook for Purple Team engagement\n",
    "\n",
    "### LogRhythm Labs\n",
    "### July 2020\n",
    "\n",
    "##### Functionality:\n",
    "##### Create Master LR Case for Purple Team Exercise with custom Playbook for list of techniques\n",
    "##### Create Per-Technique LR Cases with a technique-level playbook\n",
    "\n",
    "### Please configure the server connection parameters under \"Connection settings for the LR Case API\"\n",
    "\n"
   ]
  },
  {
   "cell_type": "markdown",
   "metadata": {},
   "source": [
    "#### Import required libraries"
   ]
  },
  {
   "cell_type": "code",
   "execution_count": null,
   "metadata": {},
   "outputs": [],
   "source": [
    "from attackcti import attack_client\n",
    "import requests\n",
    "from pandas import *\n",
    "import json\n",
    "import urllib3 # to suppress SSL warnings if a self-signed cert is being used to access the Case API\n",
    "urllib3.disable_warnings() # to suppress SSL warnings if a self-signed cert is being used to access the Case API\n",
    "import pyinputplus as pyip\n"
   ]
  },
  {
   "cell_type": "markdown",
   "metadata": {},
   "source": [
    "#### Connection settings for the LR Case API"
   ]
  },
  {
   "cell_type": "code",
   "execution_count": null,
   "metadata": {},
   "outputs": [],
   "source": [
    "# In order to use the LogRhythm Case API you will need to setup an API account and generate a Case API token. Please refer to https://docs.logrhythm.com/docs/lrapi/rest-api/case-api/set-up-the-case-api for more information.\n",
    "\n",
    "server = 'server' # replace 'server' with the name or IP address of the machine running Case API (usually the Web Console server)\n",
    "\n",
    "TagsEndpoint = 'https://{}:8501/lr-case-api/tags'.format(server)\n",
    "RequestHeaders = {} #set up the dictionary for request headers to the LogRhythm Case API\n",
    "RequestHeaders['Authorization'] = 'Bearer CaseAPItoken' # replace 'caseAPItoken' with the token generated for the Case API user\n",
    "RequestHeaders['Content-Type'] = 'application/json'\n"
   ]
  },
  {
   "cell_type": "markdown",
   "metadata": {},
   "source": [
    "#### Load MITRE ATT&CK Enterprise Matrix"
   ]
  },
  {
   "cell_type": "code",
   "execution_count": null,
   "metadata": {},
   "outputs": [],
   "source": [
    "lift = attack_client()\n",
    "%time all_enterprise = lift.get_enterprise()\n"
   ]
  },
  {
   "cell_type": "markdown",
   "metadata": {},
   "source": [
    "#### Create Case tags from the ID and name of all tactics in the Enterprise Matrix "
   ]
  },
  {
   "cell_type": "code",
   "execution_count": null,
   "metadata": {
    "scrolled": true
   },
   "outputs": [],
   "source": [
    "## create Case Tags for each MITRE tactic. Also create a lookup table (a dict) so that when a case is created for a technique the tactic tag can be looked up and added.\n",
    "tacticTagLookup = {}\n",
    "for tactic in all_enterprise['tactics']:\n",
    "    tacticTag = '{\"text\":\"'+tactic['external_references'][0]['external_id']+': '+tactic['name'] + '\"}'\n",
    "    tacticTagResponse = requests.post(TagsEndpoint, verify = False, headers=RequestHeaders,data = tacticTag)\n",
    "    tacticTagLookup[tactic['name'].lower()] = tacticTagResponse.json()['number']\n",
    "    print(tacticTag)\n",
    "    "
   ]
  },
  {
   "cell_type": "markdown",
   "metadata": {},
   "source": [
    "#### Red Team: Input list of MITRE techniques that will be simulated in purple team exercise"
   ]
  },
  {
   "cell_type": "code",
   "execution_count": null,
   "metadata": {},
   "outputs": [],
   "source": [
    "from ipywidgets import widgets\n",
    "from IPython.display import display\n",
    "# create list of techniques\n",
    "techniqueIDs=[]\n",
    "numOfTechniques = int(input(\"Enter number of techniques to simulate: \"))\n",
    "# fill in list\n",
    "for i in range(0, numOfTechniques):\n",
    "    ele = str(input(\"Enter technique number : \"))\n",
    "    techniqueIDs.append(ele) # adding the element\n",
    "# print list to check (if needed uncomment next line)\n",
    "# print(techniqueIDs)"
   ]
  },
  {
   "cell_type": "markdown",
   "metadata": {},
   "source": [
    "#### Prompt the user for a name for the Purple team exercise and make a case tag for it"
   ]
  },
  {
   "cell_type": "code",
   "execution_count": null,
   "metadata": {},
   "outputs": [],
   "source": [
    "purpleExerciseName = input(\"Please enter a name for the Purple Team exercise\")"
   ]
  },
  {
   "cell_type": "markdown",
   "metadata": {},
   "source": [
    "#### Create a purple team case tag for the exercise"
   ]
  },
  {
   "cell_type": "code",
   "execution_count": null,
   "metadata": {},
   "outputs": [],
   "source": [
    "purpleExerciseTagName = \"PurpleTeam: \" + purpleExerciseName\n",
    "purpleExerciseTagData = '{\"text\":\"'+purpleExerciseTagName +'\"}'\n",
    "purpleExerciseTagResponse = requests.post(TagsEndpoint, verify = False, headers=RequestHeaders,data = purpleExerciseTagData)\n",
    "purpleExerciseTagNumber = purpleExerciseTagResponse.json()['number']\n",
    "\n"
   ]
  },
  {
   "cell_type": "markdown",
   "metadata": {},
   "source": [
    "#### Create general PurpleTeam tag"
   ]
  },
  {
   "cell_type": "code",
   "execution_count": null,
   "metadata": {},
   "outputs": [],
   "source": [
    "purpleTagName = \"PurpleTeam\"\n",
    "purpleTagData = '{\"text\":\"'+purpleTagName +'\"}'\n",
    "purpleTagResponse = requests.post(TagsEndpoint, verify = False, headers=RequestHeaders,data = purpleTagData)\n",
    "purpleTagNumber = purpleTagResponse.json()['number']\n",
    "\n"
   ]
  },
  {
   "cell_type": "code",
   "execution_count": null,
   "metadata": {},
   "outputs": [],
   "source": [
    "print(purpleTagNumber)\n",
    "print(purpleExerciseTagNumber)"
   ]
  },
  {
   "cell_type": "markdown",
   "metadata": {},
   "source": [
    "#### Create a master playbook "
   ]
  },
  {
   "cell_type": "code",
   "execution_count": null,
   "metadata": {},
   "outputs": [],
   "source": [
    "playbooksEndpoint = 'https://{}:8501/lr-case-api/playbooks/'.format(server) \n",
    "playbookName = \"Master Playbook: \" + purpleExerciseName\n",
    "playbookData = '{\"name\":\"' + playbookName + '\",\"description\": \"Master playbook for purple team exercise\",\"permissions\": {\"read\": \"publicAllUsers\",\"write\": \"publicAllUsers\"},\"entities\": []}'\n",
    "playbookResponse = requests.post(playbooksEndpoint, verify = False, headers=RequestHeaders,data = playbookData)\n"
   ]
  },
  {
   "cell_type": "code",
   "execution_count": null,
   "metadata": {},
   "outputs": [],
   "source": [
    "print(playbookResponse.json())"
   ]
  },
  {
   "cell_type": "code",
   "execution_count": null,
   "metadata": {},
   "outputs": [],
   "source": [
    "playbookID = playbookResponse.json()['id']"
   ]
  },
  {
   "cell_type": "code",
   "execution_count": null,
   "metadata": {},
   "outputs": [],
   "source": [
    "print(playbookID)"
   ]
  },
  {
   "cell_type": "markdown",
   "metadata": {},
   "source": [
    "#### Create the procedures for the master playbook "
   ]
  },
  {
   "cell_type": "code",
   "execution_count": null,
   "metadata": {},
   "outputs": [],
   "source": [
    "\n",
    "masterProcedures = []\n",
    "\n",
    "for t in techniqueIDs:\n",
    "    print(\"building procedures for technique\",t)\n",
    "    masterProcedures.append({\"name\": \"Red Team: Simulate technique {}\".format(t),\"description\": \"Red Team runs simulation of MITRE ATT&CK technique {}\".format(t)})\n",
    "    masterProcedures.append({\"name\": \"Blue Team: Identify evidence of technique {} execution\".format(t),\"description\": \"Identify whether existing analytics detect execution of MITRE technique {}. If not, perform investigations to find evidence of technique execution.\".format(t)})\n",
    "    masterProcedures.append({\"name\": \"Blue Team: Generate a LogRhythm Case for technique {} with Jupyter\".format(t),\"description\": \"Using the Purple Team Jupyter Notebook generate a LogRhythm Case for technique {}\".format(t)})\n",
    "    masterProcedures.append({\"name\": \"Blue Team: Navigate to the LogRhythm Case for technique {} and follow the technique playbook\".format(t),\"description\": \"Navigate to the Case generated for technique {} and follow the procedures in the playbook attached to the Case\".format(t)})\n",
    "    masterProcedures.append({\"name\": \"Blue team: If required, document and automate new detection methods for technique {}.\".format(t),\"description\": \"Any new detection techniques, regardless of efficacy, should be documented. Effective detection techniques should be automated through the creation of AIE Engine rules, saved investigations, dashboards or playbooks depending on false positive and false negative probability.\"})\n",
    "\n",
    "masterProcedures.append({\"name\": \"Set the Master Case status to complete\",\"description\": \"Once all procedures in this playbook are complete, set the status of this Case to completed\"})\n",
    "\n",
    "proceduresData = json.dumps(masterProcedures)\n",
    "\n"
   ]
  },
  {
   "cell_type": "code",
   "execution_count": null,
   "metadata": {},
   "outputs": [],
   "source": [
    "print(proceduresData)"
   ]
  },
  {
   "cell_type": "markdown",
   "metadata": {},
   "source": [
    "#### Update the Purple Team Master playbook with procedures for each technique"
   ]
  },
  {
   "cell_type": "code",
   "execution_count": null,
   "metadata": {},
   "outputs": [],
   "source": [
    "procedureUpdateEndpoint = 'https://{}:8501/lr-case-api/playbooks/{}/procedures/'.format(server,playbookID)\n",
    "procedureUpdateResponse = requests.put(procedureUpdateEndpoint, verify = False, headers=RequestHeaders,data = proceduresData)\n"
   ]
  },
  {
   "cell_type": "markdown",
   "metadata": {},
   "source": [
    "#### Create a master purple team exercise case with the tag of the exercise name and the playbook walking through the techniques"
   ]
  },
  {
   "cell_type": "code",
   "execution_count": null,
   "metadata": {},
   "outputs": [],
   "source": [
    "CaseEndpoint = 'https://{}:8501/lr-case-api/cases'.format(server)\n",
    "masterCaseName = \"Purple Team: \"+ purpleExerciseName + \": Master Case\"\n",
    "createCaseData = '{\"name\":\"'+masterCaseName+'\",\"priority\": 5}'\n",
    "createCaseDataResponse = requests.post(CaseEndpoint, verify = False, headers = RequestHeaders,data = createCaseData)\n",
    "masterCaseNumber = createCaseDataResponse.json()['id']\n",
    "       \n"
   ]
  },
  {
   "cell_type": "code",
   "execution_count": null,
   "metadata": {},
   "outputs": [],
   "source": [
    "print(masterCaseNumber)"
   ]
  },
  {
   "cell_type": "markdown",
   "metadata": {},
   "source": [
    "#### Attach the master playbook to the master case"
   ]
  },
  {
   "cell_type": "code",
   "execution_count": null,
   "metadata": {},
   "outputs": [],
   "source": [
    "masterPlaybookEndpoint = 'https://{}:8501/lr-case-api/cases/'.format(server)+ masterCaseNumber + '/playbooks/'\n",
    "addPlaybookData = '{\"id\":\"'+playbookID+'\"}'\n",
    "addPlaybookResponse = requests.post(masterPlaybookEndpoint, verify = False, headers = RequestHeaders, data = addPlaybookData)\n",
    "print(addPlaybookResponse.json())\n"
   ]
  },
  {
   "cell_type": "markdown",
   "metadata": {},
   "source": [
    "#### Add the custom purple team tag to the Master Case"
   ]
  },
  {
   "cell_type": "code",
   "execution_count": null,
   "metadata": {},
   "outputs": [],
   "source": [
    "masterTagEndpoint = 'https://{}:8501/lr-case-api/cases/'.format(server)+ masterCaseNumber + '/actions/addTags/'\n",
    "masterTagData = '{\"numbers\": [' + str(purpleTagNumber)+','+str(purpleExerciseTagNumber)+']}'\n",
    "addMasterTagResponse = requests.put(masterTagEndpoint,verify = False, headers = RequestHeaders, data = masterTagData)\n",
    "print(addMasterTagResponse.json())"
   ]
  },
  {
   "cell_type": "code",
   "execution_count": null,
   "metadata": {},
   "outputs": [],
   "source": [
    "print(masterTagEndpoint)"
   ]
  },
  {
   "cell_type": "markdown",
   "metadata": {},
   "source": [
    "#### Create playbook for technique cases"
   ]
  },
  {
   "cell_type": "code",
   "execution_count": null,
   "metadata": {},
   "outputs": [],
   "source": [
    "playbooksEndpoint = 'https://{}:8501/lr-case-api/playbooks/'.format(server)\n",
    "playbookName = \"Purple Exercise MITRE technique playbook\" \n",
    "playbookData = '{\"name\":\"' + playbookName + '\",\"description\": \"Per-MITRE-technique playbook for purple team exercise\",\"permissions\": {\"read\": \"publicAllUsers\",\"write\": \"publicAllUsers\"},\"entities\": []}'\n",
    "playbookResponse = requests.post(playbooksEndpoint, verify = False, headers=RequestHeaders,data = playbookData)\n",
    "print(playbookResponse.json())\n",
    "techniquePlaybookID = playbookResponse.json()['id']"
   ]
  },
  {
   "cell_type": "markdown",
   "metadata": {},
   "source": [
    "#### Create procedures to the technique case"
   ]
  },
  {
   "cell_type": "code",
   "execution_count": null,
   "metadata": {},
   "outputs": [],
   "source": [
    "techniqueProcedures = []\n",
    "\n",
    "techniqueProcedures.append({\"name\": \"Blue team: Add evidence to Case\",\"description\": \"Add logs and alarms relevant to the MITRE technique resulting from an analytic drill down or threat hunting\"})\n",
    "techniqueProcedures.append({\"name\": \"Blue team: Set Case status to incident\",\"description\": \"Set Case status to incident\"})\n",
    "techniqueProcedures.append({\"name\": \"Blue team: Decide if mitigating steps must be taken\",\"description\": \"If necessary, follow playbooks for threat mitigation. Ensure that the Case status is set to mitigated if appropriate.\"})\n",
    "techniqueProcedures.append({\"name\": \"Blue team: Set Case status to resolved by clicking mitigated and then resolved when evidence collection is complete\",\"description\": \"When mitigation steps are complete, set the Case status to resolved so that Case statistics are calculated properly\"})\n",
    "\n",
    "techniqueProceduresData = json.dumps(techniqueProcedures)"
   ]
  },
  {
   "cell_type": "markdown",
   "metadata": {},
   "source": [
    "#### Add technique procedures to technique playbook"
   ]
  },
  {
   "cell_type": "code",
   "execution_count": null,
   "metadata": {},
   "outputs": [],
   "source": [
    "procedureUpdateEndpoint = 'https://{}:8501/lr-case-api/playbooks/{}/procedures/'.format(server,techniquePlaybookID)\n",
    "procedureUpdateResponse = requests.put(procedureUpdateEndpoint, verify = False, headers=RequestHeaders,data = techniqueProceduresData)\n"
   ]
  },
  {
   "cell_type": "markdown",
   "metadata": {},
   "source": [
    " \n",
    "### Create Case for each technique that will be executed in the Purple Team exercise\n",
    "#### Tag Case with name of exercise, technique, tactic and data source requirements"
   ]
  },
  {
   "cell_type": "markdown",
   "metadata": {},
   "source": [
    "#### Present User with choice of which technique will have a case created"
   ]
  },
  {
   "cell_type": "code",
   "execution_count": null,
   "metadata": {},
   "outputs": [],
   "source": [
    "technique = pyip.inputMenu(techniqueIDs,numbered=True)\n",
    "print(\"Building a Case for technique {}\".format(technique))"
   ]
  },
  {
   "cell_type": "code",
   "execution_count": null,
   "metadata": {
    "scrolled": true
   },
   "outputs": [],
   "source": [
    "CaseEndpoint = 'https://{}:8501/lr-case-api/cases'.format(server)\n",
    "\n",
    "\n",
    "#iterate through the techniques and come up with list of technique tags\n",
    "for t in all_enterprise['techniques']:\n",
    "    if t['external_references'][0]['external_id'] == technique:\n",
    "        #\n",
    "        #CREATE A NAME FOR THE CASE. Example \"T1015: Accessibility Features\" \n",
    "        #\n",
    "        createCaseData = '{\"name\": \"'+t['external_references'][0]['external_id']+': '+t['name']+'\",\"priority\": 4}'\n",
    "        #\n",
    "        #CREATE THE CASE AND CAPTURE THE CASE NUMBER.\n",
    "        #\n",
    "        createCaseDataResponse = requests.post(CaseEndpoint, verify = False, headers = RequestHeaders,data = createCaseData)\n",
    "        caseNumber = createCaseDataResponse.json()['number']\n",
    "        caseID = createCaseDataResponse.json()['id']\n",
    "        #\n",
    "        #CREATE A NAME FOR THE TECHNIQUE TAG. Example \"T1496: Resource Hijacking\"\n",
    "        #\n",
    "        techniqueTag = '{\"text\":\"'+t['external_references'][0]['external_id']+\": \"+t['name']+'\"}'\n",
    "        #\n",
    "        #CREATE THE TECHNIQUE TAG AND CAPTURE THE TAG NUMBER\n",
    "        #\n",
    "        techniqueTagResponse = requests.post(TagsEndpoint, verify = False, headers=RequestHeaders,data = techniqueTag)\n",
    "        techniqueTagNumber = techniqueTagResponse.json()['number']\n",
    "        print(techniqueTag,techniqueTagNumber,caseNumber)\n",
    "        #\n",
    "        #BUILD A URL FOR ADDING TAGS TO A CASE \n",
    "        #\n",
    "        caseTagEndpoint = CaseEndpoint + '/' + str(caseNumber) + '/actions/addTags'\n",
    "        #\n",
    "        #adding tags is accomplished by sending a list of the tag numbers to be sent\n",
    "        #\n",
    "        # QUERY THE TACTIC NAME FROM THE TECHNIQUE. QUERY THE TAG NUMBER FOR THE TACTIC\n",
    "        #\n",
    "        tacticName = t['kill_chain_phases'][0]['phase_name'].replace('-',' ').lower()\n",
    "        caseTagData = '{\"numbers\":['+ str(techniqueTagNumber)+','+str(tacticTagLookup[tacticName])+']}'\n",
    "        requests.put(caseTagEndpoint, verify = False, headers=RequestHeaders, data=caseTagData) \n",
    "        #\n",
    "        # ADD TAGS FOR EACH OF THE DATA SOURCES REQUIRED FOR DETECTION OF THE TECHNIQUE\n",
    "        #\n",
    "        for dataSource in t['x_mitre_data_sources']:\n",
    "            dataSourceTag = '{\"text\": \"Data Source: ' + dataSource + '\"}'\n",
    "            dataSourceTagResponse = requests.post(TagsEndpoint, verify = False, headers=RequestHeaders,data = dataSourceTag)\n",
    "            dataSourceTagNumber = dataSourceTagResponse.json()['number']\n",
    "            dataSourceTagData = '{\"numbers\":['+str(dataSourceTagNumber)+']}'\n",
    "            requests.put(caseTagEndpoint, verify = False, headers=RequestHeaders, data = dataSourceTagData)\n",
    "        #\n",
    "        #\n",
    "        # ADD A TAG FOR THE PURPLE TEAM EXERCISE NAME\n",
    "        #\n",
    "        addPurpleTagData = '{\"numbers\":['+ str(purpleTagNumber)+','+str(purpleExerciseTagNumber)+']}'\n",
    "        purpleTagResponse = requests.put(caseTagEndpoint, verify = False, headers=RequestHeaders,data = addPurpleTagData)\n",
    "        #\n",
    "        # BUILD A URL FOR ADDING NOTES TO THE CASE\n",
    "        # create endpoint for adding note to the case \n",
    "        #\n",
    "        caseNoteEndpoint = CaseEndpoint +'/' + str(caseNumber)+'/evidence/note/'\n",
    "        #\n",
    "        #BUILD A URL TO CHECK IF AN ATOMIC RED TEAM TEST EXISTS FOR THE TECHNIQUE\n",
    "        #\n",
    "        ARTEndpoint = 'https://github.com/redcanaryco/atomic-red-team/tree/master/atomics/'+ t['external_references'][0]['external_id']\n",
    "        #\n",
    "        # IF AN ATOMIC RED TEAM TEST EXISTS ADD THE URL AS A NOTE TO THE CASE\n",
    "        #\n",
    "        ARTSiteCheck = requests.get(ARTEndpoint)\n",
    "        if ARTSiteCheck.status_code == 200:\n",
    "            caseNoteData = '{\"text\":\"Atomic Red Team test for this technique can be found at: '+ARTEndpoint+'\"}'\n",
    "            noteResponse = requests.post(caseNoteEndpoint, verify = False, headers=RequestHeaders, data=caseNoteData) \n",
    "        #\n",
    "        # Associate the technique case with the Master Case\n",
    "        #\n",
    "        caseAssocEndpoint = CaseEndpoint + '/' + caseID + '/associated'\n",
    "        caseAssocData = '{\"ids\": [\"'+masterCaseNumber+'\"]}'\n",
    "        caseAssocResponse = requests.post(caseAssocEndpoint,verify = False, headers=RequestHeaders,data=caseAssocData)\n",
    "        #\n",
    "        #\n",
    "        # Add the per-technique playbook to the case\n",
    "        #\n",
    "        techniquePlaybookEndpoint = 'https://{}:8501/lr-case-api/cases/'.format(server)+ caseID + '/playbooks/'\n",
    "        addTechniquePlaybookData = '{\"id\":\"'+techniquePlaybookID+'\"}'\n",
    "        addTechniquePlaybookResponse = requests.post(techniquePlaybookEndpoint, verify = False, headers = RequestHeaders, data = addTechniquePlaybookData)\n",
    "        print(addTechniquePlaybookResponse.json())\n",
    "\n",
    "            \n"
   ]
  }
 ],
 "metadata": {
  "kernelspec": {
   "display_name": "Python 3",
   "language": "python",
   "name": "python3"
  },
  "language_info": {
   "codemirror_mode": {
    "name": "ipython",
    "version": 3
   },
   "file_extension": ".py",
   "mimetype": "text/x-python",
   "name": "python",
   "nbconvert_exporter": "python",
   "pygments_lexer": "ipython3",
   "version": "3.7.6"
  }
 },
 "nbformat": 4,
 "nbformat_minor": 4
}